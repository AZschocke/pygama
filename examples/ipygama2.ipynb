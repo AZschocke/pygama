{
 "cells": [
  {
   "cell_type": "code",
   "execution_count": null,
   "metadata": {},
   "outputs": [],
   "source": [
    "%load_ext line_profiler"
   ]
  },
  {
   "cell_type": "code",
   "execution_count": 1,
   "metadata": {},
   "outputs": [],
   "source": [
    "import numpy as np\n",
    "import pandas as pd\n",
    "import pygama\n",
    "\n",
    "raw_file = \"/Users/wisecg/dev/mj60/data/2018-10-9-P3LTP_Run42343\"\n",
    "t1_file = \"/Users/wisecg/dev/mj60/data/t1_run42343.h5\""
   ]
  },
  {
   "cell_type": "code",
   "execution_count": 16,
   "metadata": {},
   "outputs": [],
   "source": [
    "%%capture\n",
    "# n_evt = 100000 # 487500 or np.inf\n",
    "n_evt = 5000\n",
    "\n",
    "from pygama.processing._tier0 import ProcessTier0\n",
    "ProcessTier0(raw_file,\n",
    "             verbose=True,\n",
    "             output_dir=\"/Users/wisecg/dev/mj60/data\",\n",
    "             n_max=n_evt,\n",
    "             chan_list=None)\n",
    "\n",
    "event_df = pd.read_hdf(t1_file, \"ORGretina4MWaveformDecoder\")"
   ]
  },
  {
   "cell_type": "code",
   "execution_count": 17,
   "metadata": {},
   "outputs": [
    {
     "name": "stdout",
     "output_type": "stream",
     "text": [
      "166 ms ± 5.34 ms per loop (mean ± std. dev. of 7 runs, 1 loop each)\n"
     ]
    }
   ],
   "source": [
    "%%timeit\n",
    "pyg = pygama.VectorProcess(default_list=True)\n",
    "t1_df, wf_df = pyg.Process(event_df, [\"wf_blsub\"])"
   ]
  },
  {
   "cell_type": "code",
   "execution_count": 9,
   "metadata": {},
   "outputs": [
    {
     "data": {
      "text/plain": [
       "dict_keys(['wf_blsub'])"
      ]
     },
     "execution_count": 9,
     "metadata": {},
     "output_type": "execute_result"
    }
   ],
   "source": [
    "wf_df.keys()"
   ]
  },
  {
   "cell_type": "code",
   "execution_count": null,
   "metadata": {},
   "outputs": [],
   "source": []
  }
 ],
 "metadata": {
  "kernelspec": {
   "display_name": "Python 3",
   "language": "python",
   "name": "python3"
  },
  "language_info": {
   "codemirror_mode": {
    "name": "ipython",
    "version": 3
   },
   "file_extension": ".py",
   "mimetype": "text/x-python",
   "name": "python",
   "nbconvert_exporter": "python",
   "pygments_lexer": "ipython3",
   "version": "3.6.4"
  }
 },
 "nbformat": 4,
 "nbformat_minor": 2
}
