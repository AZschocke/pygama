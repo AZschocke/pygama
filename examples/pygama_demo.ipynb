{
 "cells": [
  {
   "cell_type": "markdown",
   "metadata": {},
   "source": [
    "# a quick pygama demo\n",
    "\n",
    "`pygama` is built for speed, and to show that we don't have to write in a lower-level language like C to get it. Its core processing operations are optimized and parallellized as much as possible, using tools like `pandas`, `numpy`, `hdf5`, `multiprocessing`, and `cython` to do the heavy lifting.\n",
    "\n",
    "Processing is split into a Tier system:\n",
    "- **Tier 0** : Raw DAQ data, containing many data takers\n",
    "\n",
    "- **Tier 1** : Pandas DataFrames, with waveform samples stored in separate columns\n",
    "\n",
    "- **Tier 2** : DataFrame containing single-valued output only (no waveforms).  \n",
    "\n",
    "Without waveforms, files can be made extremely small and fast for calculations like pulser tagging, event building, deadtime, and energy calibration.  There is nothing stopping us from combining the Tier 2 results back with the original waveforms for higher-Tier, more advanced processing (such as retrieving all waveforms which pass high-level cuts).  \n",
    "\n",
    "(Soon we'll add a class that can quickly concatenate many Tier 1 files (one for each run!) to construct Data Sets.)\n",
    "\n",
    "\n",
    "The work is done by two main processing functions:\n",
    "\n",
    "- **ProcessTier0 (tier0.py)** \n",
    "    `Raw data --> Pandas DataFrame (Tier 1)`  \n",
    "    \n",
    "    Uses pygama's `DataLoader` objects such as `Digitizer` and `Poller` to extract the raw data in a single loop over the raw file.  (Side note: This loop can optionally be cythonized for extra speed.)\n",
    "    \n",
    "    Saves the data in a format which can be \"chunked,\" where we can quickly open subsets of a DataFrame for processing, just like a `ROOT TTree`.  Internally this uses `pytables`, which has an internal limitation on the number of columns (3000), in exchange for superfast selection of the subsets with `pandas.HDFStore` .\n",
    "    \n",
    "    Writes Tier 1 DataFrames to HDF5.  Uses compression: blosc:snappy.  I picked this after reading [this blog post](https://dziganto.github.io/out-of-core%20computation/HDF5-Or-How-I-Learned-To-Love-Data-Compression-And-Partial-Input-Output/).\n",
    "  \n",
    "  \n",
    "- **ProcessTier1 (tier1.py)**\n",
    "    `Tier 1 DataFrame --> Tier 2 DataFrame`\n",
    "\n",
    "    The Tier 1 data is processed in **chunks**, i.e large blocks of waveforms saved into `numpy.ndarray` objects.  Numpy operations are highly optimized for speed (taking advantage of C and Fortran libraries) and operations on entire `ndarray` objects can be performed **significantly faster** than loop-based iteration over rows.  This is often called **vectorizing** and can make things very fast.  \n",
    "\n",
    "    The `multiprocessing` module allows another big speedup.  By selecting \"blocks\" of waveforms with fast HDF5 indexing, we can process each block in parallel and combine the output at the end, using as many threads as are available on the system (supercomputers can have lots and lots of threads on every node!)\n",
    "\n",
    "    To facilitate calculations or transforms which may depend on others, we keep a list of `Calculator` or `Transformer` objects which operate on an internal \"intercom\" that stores blocks of waveforms and columns of calculator results.  \n",
    "    \n",
    "    Writes Tier 2 DataFrames to HDF5, and optionally also saves (transformed) waveforms.\n",
    "\n",
    "  "
   ]
  },
  {
   "cell_type": "code",
   "execution_count": 7,
   "metadata": {},
   "outputs": [],
   "source": [
    "import time, glob, sys\n",
    "import numpy as np\n",
    "import pandas as pd\n",
    "import matplotlib.pyplot as plt\n",
    "%matplotlib notebook\n",
    "plt.style.use(\"../pygama/clint.mpl\")"
   ]
  },
  {
   "cell_type": "code",
   "execution_count": 2,
   "metadata": {},
   "outputs": [],
   "source": [
    "# set some options\n",
    "\n",
    "data_dir = \"/Users/wisecg/project/pygama\"\n",
    "\n",
    "# run = 42343\n",
    "run = 72\n",
    "\n",
    "# pygama user options - could even read these in from json config files\n",
    "t0_options = {\n",
    "    42343: {\"digitizer\":\"ORGretina4MWaveformDecoder\", \"n_blsamp\":500},\n",
    "    72: {\"digitizer\":\"ORSIS3302DecoderForEnergy\",\n",
    "         \"window\":\"max\", # max or tp\n",
    "         \"n_samp\":2000,\n",
    "         \"n_blsamp\":10000}\n",
    "    }\n",
    "t1_options = {\n",
    "    43243 : {\"fit_baseline\": {\"i_end\":500}},\n",
    "    72 : {\"fit_baseline\": {\"i_end\":8000}}\n",
    "    }"
   ]
  },
  {
   "cell_type": "markdown",
   "metadata": {},
   "source": [
    "## Run ProcessTier0\n",
    "\n",
    "Here we loop over the raw file.  They can be large, so we periodically write to our output file rather than storing the whole thing in memory at once.  It's less simple to parallelize this task, since each record's starting index depends on the previous one.  So we can cythonize `ProcessTier0` and related functions to squeeze out a little more speed."
   ]
  },
  {
   "cell_type": "code",
   "execution_count": 3,
   "metadata": {},
   "outputs": [
    {
     "name": "stdout",
     "output_type": "stream",
     "text": [
      "Starting pygama Tier 0 processing ...\n",
      "  Input file: /Users/wisecg/project/pygama/2018-9-30-BackgroundRun72\n",
      "Total file size: 2010.030 MB\n",
      "Run number: 72\n",
      "Data IDs present in this header are:\n",
      "    4: OR1DHistoDecoder\n",
      "    5: ORRunDecoderForRun\n",
      "    1: ORSIS3302DecoderForEnergy\n",
      "    3: ORSIS3302DecoderForLostData\n",
      "    2: ORSIS3302DecoderForMca\n",
      "pygama will run these decoders:\n",
      "    1: ORSIS3302DecoderForEnergy\n",
      "Overwriting existing file...\n",
      "Beginning Tier 0 processing ...\n",
      "PROGRESS : [####################] 98.713% done.  last packet ID: 31404\n",
      "Writing ORSIS3302DecoderForEnergy\n",
      "Saving garbage: 52 of 31383 total events\n",
      "PROGRESS : [####################] 100.000% Done...\n",
      "Wrote: Tier 1 File:\n",
      "    /Users/wisecg/project/pygama/t1_run72.h5\n",
      "FILE INFO:\n",
      "['/ORSIS3302DecoderForEnergy', '/ORSIS3302DecoderForEnergy_Garbage', '/ORSIS3302Model']\n",
      "File size: 95.863 MB\n",
      "Time elapsed: 23.06 sec\n",
      "Done.\n",
      "\n"
     ]
    }
   ],
   "source": [
    "from pygama.processing.tier0 import ProcessTier0\n",
    "\n",
    "raw_file = glob.glob(\"{}/*Run{}\".format(data_dir, run))[0]\n",
    "\n",
    "n_evt = 50000\n",
    "# n_evt = np.inf\n",
    "\n",
    "ProcessTier0(raw_file,\n",
    "             verbose=True,\n",
    "             output_dir=data_dir,\n",
    "             n_max=n_evt,\n",
    "             settings=t0_options[run]) # pass in specific build options"
   ]
  },
  {
   "cell_type": "markdown",
   "metadata": {},
   "source": [
    "## Examine Tier 1 Output\n",
    "\n",
    "Let's peek at the (multiple) DataFrames that ProcessTier0 has stored in our Tier 1 file."
   ]
  },
  {
   "cell_type": "code",
   "execution_count": 5,
   "metadata": {},
   "outputs": [
    {
     "name": "stdout",
     "output_type": "stream",
     "text": [
      "/ORSIS3302DecoderForEnergy \n",
      "    frame_table  (typ->appendable,nrows->31331,ncols->2008,indexers->[index],dc->[ievt])\n",
      "/ORSIS3302DecoderForEnergy_Garbage \n",
      "    frame        (shape->[52,9])\n",
      "/ORSIS3302Model \n",
      "    frame        (shape->[1,47])\n",
      "\n",
      " TIER 1 EVENT DATA:\n",
      "   channel  energy  energy_first  ievt  packet_id  timestamp   ts_hi   ts_lo  \\\n",
      "0        0  259050          2489     0          3   11984899  151080  131090   \n",
      "1        0  118233          3722     1          4   14153471  150430  130440   \n",
      "2        0  173635          2553     2          5   15521894  152340  132350   \n",
      "3        0  162609          2864     3          6   15727995  151320  131330   \n",
      "4        0  174095          2680     4          7   17427060  151800  131810   \n",
      "\n",
      "      0     1  ...   1990  1991  1992  1993  1994  1995  1996  1997  1998  \\\n",
      "0 -7327 -7334  ...  -6745 -6744 -6744 -6744 -6757 -6748 -6747 -6742 -6749   \n",
      "1 -7323 -7326  ...  -7068 -7061 -7067 -7068 -7069 -7064 -7061 -7062 -7071   \n",
      "2 -7325 -7327  ...  -6945 -6946 -6949 -6950 -6953 -6949 -6951 -6951 -6937   \n",
      "3 -7325 -7332  ...  -6964 -6971 -6968 -6963 -6975 -6966 -6962 -6972 -6974   \n",
      "4 -7333 -7330  ...  -6937 -6938 -6939 -6929 -6934 -6940 -6939 -6933 -6936   \n",
      "\n",
      "   1999  \n",
      "0 -6753  \n",
      "1 -7065  \n",
      "2 -6950  \n",
      "3 -6963  \n",
      "4 -6933  \n",
      "\n",
      "[5 rows x 2008 columns]\n",
      "\n",
      " TIER 1 GARBAGE DATA:\n",
      "   packet_id  ievt  energy  energy_first   timestamp  channel   ts_lo   ts_hi  \\\n",
      "0        223     0    7122          1366   391398510        0       0   10460   \n",
      "1        576     1  118245          3313  1060488167        0  308990  319980   \n",
      "2        885     2    3975          1756  1657739447        0  308930  319980   \n",
      "3       1256     3    3593          1536  2264100679        0       0   12900   \n",
      "4       1493     4   54172          2905  2711781609        0  308020  319980   \n",
      "\n",
      "                                            waveform  \n",
      "0  [58000.0, 57996.0, 58001.0, 58005.0, 58004.0, ...  \n",
      "1  [58243.0, 58241.0, 58234.0, 58236.0, 58240.0, ...  \n",
      "2  [58205.0, 58198.0, 58205.0, 58209.0, 58206.0, ...  \n",
      "3  [58189.0, 58134.0, 58227.0, 58237.0, 58147.0, ...  \n",
      "4  [58200.0, 58206.0, 58207.0, 58207.0, 58204.0, ...  \n",
      "\n",
      " TIER 1 METADATA (DIGITIZER INFO):\n",
      "Index(['Class Name', 'adc50KtriggerEnabledMask', 'baseAddress',\n",
      "       'bufferWrapEnabledMask', 'cfdControls', 'clockSource', 'dacOffsets',\n",
      "       'energyDecimations', 'energyGapTimes', 'energyGateLengths',\n",
      "       'energyNumberToSum', 'energyPeakingTimes', 'energySampleLength',\n",
      "       'energySampleStartIndex1', 'energySampleStartIndex2',\n",
      "       'energySampleStartIndex3', 'energyTauFactors',\n",
      "       'extendedThresholdEnabledMask', 'externalGateEnabledMask',\n",
      "       'externalTriggerEnabledMask', 'gateLengths', 'gtMask',\n",
      "       'highEnergySuppressMask', 'highThresholds', 'inputInvertedMask',\n",
      "       'internalExternalTriggersOred', 'internalGateEnabledMask',\n",
      "       'internalTriggerDelays', 'internalTriggerEnabledMask',\n",
      "       'lemoInEnabledMask', 'lemoInMode', 'lemoOutMode', 'peakingTimes',\n",
      "       'preTriggerDelays', 'pulseLengths', 'pulseMode', 'runMode',\n",
      "       'sampleLengths', 'sampleStartIndexes', 'shipEnergyWaveform',\n",
      "       'shipSummedWaveform', 'shipTimeRecordAlso', 'sumGs', 'thresholds',\n",
      "       'triggerDecimations', 'triggerGateLengths', 'triggerOutEnabledMask'],\n",
      "      dtype='object')\n"
     ]
    },
    {
     "data": {
      "image/png": "[encoded data removed]",
      "text/plain": [
       "<Figure size 720x432 with 1 Axes>"
      ]
     },
     "metadata": {
      "needs_background": "light"
     },
     "output_type": "display_data"
    }
   ],
   "source": [
    "t1_file = glob.glob(\"{}/t1_run{}.h5\".format(data_dir, run))[0]\n",
    "\n",
    "with pd.HDFStore(t1_file,'r') as store:\n",
    "\n",
    "    for key in store.keys():\n",
    "        s = store.get_storer(key)\n",
    "        print(key, \"\\n   \", s)\n",
    "        \n",
    "    df_tier1 = store.get(\"ORSIS3302DecoderForEnergy\") # careful, it can be a lot to load in RAM\n",
    "        \n",
    "    df_garbage = store.get(\"ORSIS3302DecoderForEnergy_Garbage\")\n",
    "        \n",
    "    df_metadata = store.get(\"ORSIS3302Model\")\n",
    "    \n",
    "    \n",
    "    print(\"\\n TIER 1 EVENT DATA:\")\n",
    "    print(df_tier1.head())\n",
    "    \n",
    "    print(\"\\n TIER 1 GARBAGE DATA:\")\n",
    "    print(df_garbage.head())\n",
    "    \n",
    "    print(\"\\n TIER 1 METADATA (DIGITIZER INFO):\")\n",
    "    print(df_metadata.columns)\n",
    "\n",
    "\n",
    "    # grab a waveform\n",
    "    cols = df_tier1.columns.values\n",
    "    t_start = np.where(cols == 0)[0][0]\n",
    "    t_stop = len(cols)-1\n",
    "    wf = df_tier1.iloc[0, t_start:t_stop].values\n",
    "    ts = np.arange(0, len(wf), 1) + t_start\n",
    "    \n",
    "    fig = plt.figure(figsize=(10,6))\n",
    "    plt.plot(ts, wf, '-b')\n",
    "    plt.xlabel(\"Time [arb]\")\n",
    "    plt.ylabel(\"ADC\")\n",
    "    plt.show()"
   ]
  },
  {
   "cell_type": "markdown",
   "metadata": {},
   "source": [
    "## Run ProcessTier1\n",
    "\n",
    "We declare a `Tier1Processor` and create the **list of calculations/transforms** we want to do.  This is a good place to convert a multisampled waveform, do a database lookup to get nonlinearity parameters, and run various transforms (waveform-valued) and calculators (single-valued)."
   ]
  },
  {
   "cell_type": "code",
   "execution_count": 8,
   "metadata": {},
   "outputs": [
    {
     "name": "stdout",
     "output_type": "stream",
     "text": [
      "ERROR! unknown function: 43243\n"
     ]
    },
    {
     "ename": "NameError",
     "evalue": "name 'sys' is not defined",
     "output_type": "error",
     "traceback": [
      "\u001b[0;31m---------------------------------------------------------------------------\u001b[0m",
      "\u001b[0;31mNameError\u001b[0m                                 Traceback (most recent call last)",
      "\u001b[0;32m<ipython-input-8-e79f843ea2fc>\u001b[0m in \u001b[0;36m<module>\u001b[0;34m\u001b[0m\n\u001b[1;32m      5\u001b[0m \u001b[0;34m\u001b[0m\u001b[0m\n\u001b[1;32m      6\u001b[0m \u001b[0;31m# declare our processor list\u001b[0m\u001b[0;34m\u001b[0m\u001b[0;34m\u001b[0m\u001b[0;34m\u001b[0m\u001b[0m\n\u001b[0;32m----> 7\u001b[0;31m \u001b[0mproc\u001b[0m \u001b[0;34m=\u001b[0m \u001b[0mTier1Processor\u001b[0m\u001b[0;34m(\u001b[0m\u001b[0mt1_options\u001b[0m\u001b[0;34m)\u001b[0m\u001b[0;34m\u001b[0m\u001b[0;34m\u001b[0m\u001b[0m\n\u001b[0m\u001b[1;32m      8\u001b[0m \u001b[0mproc\u001b[0m\u001b[0;34m.\u001b[0m\u001b[0madd\u001b[0m\u001b[0;34m(\u001b[0m\u001b[0;34m\"fit_baseline\"\u001b[0m\u001b[0;34m,\u001b[0m \u001b[0;34m{\u001b[0m\u001b[0;34m\"i_end\"\u001b[0m\u001b[0;34m:\u001b[0m\u001b[0;36m800\u001b[0m\u001b[0;34m}\u001b[0m\u001b[0;34m)\u001b[0m\u001b[0;34m\u001b[0m\u001b[0;34m\u001b[0m\u001b[0m\n\u001b[1;32m      9\u001b[0m \u001b[0mproc\u001b[0m\u001b[0;34m.\u001b[0m\u001b[0madd\u001b[0m\u001b[0;34m(\u001b[0m\u001b[0;34m\"bl_subtract\"\u001b[0m\u001b[0;34m)\u001b[0m\u001b[0;34m\u001b[0m\u001b[0;34m\u001b[0m\u001b[0m\n",
      "\u001b[0;32m~/dev/pygama/pygama/processing/base.py\u001b[0m in \u001b[0;36m__init__\u001b[0;34m(self, settings, default_list)\u001b[0m\n\u001b[1;32m     25\u001b[0m             \u001b[0mself\u001b[0m\u001b[0;34m.\u001b[0m\u001b[0msettings\u001b[0m \u001b[0;34m=\u001b[0m \u001b[0msettings\u001b[0m\u001b[0;34m\u001b[0m\u001b[0;34m\u001b[0m\u001b[0m\n\u001b[1;32m     26\u001b[0m             \u001b[0;32mfor\u001b[0m \u001b[0mkey\u001b[0m \u001b[0;32min\u001b[0m \u001b[0msettings\u001b[0m\u001b[0;34m:\u001b[0m\u001b[0;34m\u001b[0m\u001b[0;34m\u001b[0m\u001b[0m\n\u001b[0;32m---> 27\u001b[0;31m                 \u001b[0mself\u001b[0m\u001b[0;34m.\u001b[0m\u001b[0madd\u001b[0m\u001b[0;34m(\u001b[0m\u001b[0mkey\u001b[0m\u001b[0;34m,\u001b[0m \u001b[0msettings\u001b[0m\u001b[0;34m[\u001b[0m\u001b[0mkey\u001b[0m\u001b[0;34m]\u001b[0m\u001b[0;34m)\u001b[0m\u001b[0;34m\u001b[0m\u001b[0;34m\u001b[0m\u001b[0m\n\u001b[0m\u001b[1;32m     28\u001b[0m \u001b[0;34m\u001b[0m\u001b[0m\n\u001b[1;32m     29\u001b[0m         \u001b[0;32mif\u001b[0m \u001b[0mdefault_list\u001b[0m\u001b[0;34m:\u001b[0m\u001b[0;34m\u001b[0m\u001b[0;34m\u001b[0m\u001b[0m\n",
      "\u001b[0;32m~/dev/pygama/pygama/processing/base.py\u001b[0m in \u001b[0;36madd\u001b[0;34m(self, fun_name, settings)\u001b[0m\n\u001b[1;32m     93\u001b[0m         \u001b[0;32melse\u001b[0m\u001b[0;34m:\u001b[0m\u001b[0;34m\u001b[0m\u001b[0;34m\u001b[0m\u001b[0m\n\u001b[1;32m     94\u001b[0m             \u001b[0mprint\u001b[0m\u001b[0;34m(\u001b[0m\u001b[0;34m\"ERROR! unknown function:\"\u001b[0m\u001b[0;34m,\u001b[0m \u001b[0mfun_name\u001b[0m\u001b[0;34m)\u001b[0m\u001b[0;34m\u001b[0m\u001b[0;34m\u001b[0m\u001b[0m\n\u001b[0;32m---> 95\u001b[0;31m             \u001b[0msys\u001b[0m\u001b[0;34m.\u001b[0m\u001b[0mexit\u001b[0m\u001b[0;34m(\u001b[0m\u001b[0;34m)\u001b[0m\u001b[0;34m\u001b[0m\u001b[0;34m\u001b[0m\u001b[0m\n\u001b[0m\u001b[1;32m     96\u001b[0m \u001b[0;34m\u001b[0m\u001b[0m\n\u001b[1;32m     97\u001b[0m \u001b[0;34m\u001b[0m\u001b[0m\n",
      "\u001b[0;31mNameError\u001b[0m: name 'sys' is not defined"
     ]
    }
   ],
   "source": [
    "from pygama.processing.base import Tier1Processor\n",
    "from pygama.processing.tier1 import ProcessTier1\n",
    "\n",
    "t1_file = glob.glob(\"{}/t1_run{}.h5\".format(data_dir, run))[0]\n",
    "\n",
    "# declare our processor list\n",
    "proc = Tier1Processor(t1_options)\n",
    "proc.add(\"fit_baseline\", {\"i_end\":800})\n",
    "proc.add(\"bl_subtract\")\n",
    "proc.add(\"trap_filter\")\n",
    "proc.add(\"trap_max\", {\"test\":False})\n",
    "\n",
    "# NOTE: using {'test':True} displays a plot,\n",
    "# won't work when multiprocessing is enabled\n",
    "\n",
    "# proc = Tier1Processor(t1_options, default_list=True) # cop out\n",
    "\n",
    "ProcessTier1(t1_file,\n",
    "             proc,\n",
    "             out_prefix=\"t2\",\n",
    "             out_dir=data_dir,\n",
    "             verbose=True,\n",
    "             multiprocess=True,\n",
    "             settings=t1_options[run])"
   ]
  },
  {
   "cell_type": "markdown",
   "metadata": {},
   "source": [
    "## Run in interactive mode (test new processors)\n",
    "\n",
    "Let's run ProcessTier1 again, and display a diagnostic plot from within the trapezoid calculator \n",
    "\n",
    "(This is in `pygama.processing.transforms::trap_filter`)"
   ]
  },
  {
   "cell_type": "code",
   "execution_count": 6,
   "metadata": {},
   "outputs": [
    {
     "name": "stdout",
     "output_type": "stream",
     "text": [
      "Starting pygama Tier 1 processing ...\n",
      "   Input file: /Users/wisecg/project/pygama/t1_run72.h5\n",
      "Processing data from digitizer: ORSIS3302DecoderForEnergy\n",
      "WARNING: unable to process with pytables\n"
     ]
    },
    {
     "data": {
      "image/png": "[encoded data removed]",
      "text/plain": [
       "<Figure size 432x288 with 1 Axes>"
      ]
     },
     "metadata": {
      "needs_background": "light"
     },
     "output_type": "display_data"
    },
    {
     "ename": "NameError",
     "evalue": "name 'exit' is not defined",
     "output_type": "error",
     "traceback": [
      "\u001b[0;31m---------------------------------------------------------------------------\u001b[0m",
      "\u001b[0;31mNameError\u001b[0m                                 Traceback (most recent call last)",
      "\u001b[0;32m<ipython-input-6-1008697fde24>\u001b[0m in \u001b[0;36m<module>\u001b[0;34m()\u001b[0m\n\u001b[1;32m     11\u001b[0m              \u001b[0mverbose\u001b[0m\u001b[0;34m=\u001b[0m\u001b[0;32mTrue\u001b[0m\u001b[0;34m,\u001b[0m\u001b[0;34m\u001b[0m\u001b[0m\n\u001b[1;32m     12\u001b[0m              \u001b[0mmultiprocess\u001b[0m\u001b[0;34m=\u001b[0m\u001b[0;32mFalse\u001b[0m\u001b[0;34m,\u001b[0m  \u001b[0;31m# <---- this is different from before!\u001b[0m\u001b[0;34m\u001b[0m\u001b[0m\n\u001b[0;32m---> 13\u001b[0;31m              settings=t1_options[run])\n\u001b[0m",
      "\u001b[0;32m~/dev/pygama/pygama/processing/tier1.py\u001b[0m in \u001b[0;36mProcessTier1\u001b[0;34m(t1_file, processor, digitizers, out_prefix, out_dir, verbose, multiprocess, settings)\u001b[0m\n\u001b[1;32m     87\u001b[0m             \u001b[0mprint\u001b[0m\u001b[0;34m(\u001b[0m\u001b[0;34m\"WARNING: unable to process with pytables\"\u001b[0m\u001b[0;34m)\u001b[0m\u001b[0;34m\u001b[0m\u001b[0m\n\u001b[1;32m     88\u001b[0m             \u001b[0mt1_df\u001b[0m \u001b[0;34m=\u001b[0m \u001b[0mpd\u001b[0m\u001b[0;34m.\u001b[0m\u001b[0mread_hdf\u001b[0m\u001b[0;34m(\u001b[0m\u001b[0mt1_file\u001b[0m\u001b[0;34m,\u001b[0m \u001b[0mkey\u001b[0m\u001b[0;34m=\u001b[0m\u001b[0md\u001b[0m\u001b[0;34m.\u001b[0m\u001b[0mdecoder_name\u001b[0m\u001b[0;34m)\u001b[0m\u001b[0;34m\u001b[0m\u001b[0m\n\u001b[0;32m---> 89\u001b[0;31m             \u001b[0mt2_df\u001b[0m \u001b[0;34m=\u001b[0m \u001b[0mprocessor\u001b[0m\u001b[0;34m.\u001b[0m\u001b[0mprocess\u001b[0m\u001b[0;34m(\u001b[0m\u001b[0mt1_df\u001b[0m\u001b[0;34m)\u001b[0m\u001b[0;34m\u001b[0m\u001b[0m\n\u001b[0m\u001b[1;32m     90\u001b[0m \u001b[0;34m\u001b[0m\u001b[0m\n\u001b[1;32m     91\u001b[0m     \u001b[0mupdate_progress\u001b[0m\u001b[0;34m(\u001b[0m\u001b[0;36m1\u001b[0m\u001b[0;34m)\u001b[0m\u001b[0;34m\u001b[0m\u001b[0m\n",
      "\u001b[0;32m~/dev/pygama/pygama/processing/base.py\u001b[0m in \u001b[0;36mprocess\u001b[0;34m(self, data_df, wfnames_out)\u001b[0m\n\u001b[1;32m     53\u001b[0m             \u001b[0;31m# print(\"Applying:\", processor.function.__name__)\u001b[0m\u001b[0;34m\u001b[0m\u001b[0;34m\u001b[0m\u001b[0m\n\u001b[1;32m     54\u001b[0m \u001b[0;34m\u001b[0m\u001b[0m\n\u001b[0;32m---> 55\u001b[0;31m             \u001b[0mp_result\u001b[0m \u001b[0;34m=\u001b[0m \u001b[0mprocessor\u001b[0m\u001b[0;34m.\u001b[0m\u001b[0mprocess_block\u001b[0m\u001b[0;34m(\u001b[0m\u001b[0mself\u001b[0m\u001b[0;34m.\u001b[0m\u001b[0mwaves\u001b[0m\u001b[0;34m,\u001b[0m \u001b[0mself\u001b[0m\u001b[0;34m.\u001b[0m\u001b[0mcalcs\u001b[0m\u001b[0;34m)\u001b[0m\u001b[0;34m\u001b[0m\u001b[0m\n\u001b[0m\u001b[1;32m     56\u001b[0m \u001b[0;34m\u001b[0m\u001b[0m\n\u001b[1;32m     57\u001b[0m             \u001b[0;32mif\u001b[0m \u001b[0misinstance\u001b[0m\u001b[0;34m(\u001b[0m\u001b[0mprocessor\u001b[0m\u001b[0;34m,\u001b[0m \u001b[0mCalculator\u001b[0m\u001b[0;34m)\u001b[0m\u001b[0;34m:\u001b[0m\u001b[0;34m\u001b[0m\u001b[0m\n",
      "\u001b[0;32m~/dev/pygama/pygama/processing/base.py\u001b[0m in \u001b[0;36mprocess_block\u001b[0;34m(self, waves, calcs)\u001b[0m\n\u001b[1;32m    115\u001b[0m         \u001b[0mdf\u001b[0m \u001b[0maxes\u001b[0m\u001b[0;34m,\u001b[0m \u001b[0;32mor\u001b[0m \u001b[0mconvert\u001b[0m \u001b[0mto\u001b[0m \u001b[0ma\u001b[0m \u001b[0mnumpy\u001b[0m \u001b[0marray\u001b[0m \u001b[0;32mfor\u001b[0m \u001b[0mextra\u001b[0m \u001b[0mspeed\u001b[0m\u001b[0;34m\u001b[0m\u001b[0m\n\u001b[1;32m    116\u001b[0m         \"\"\"\n\u001b[0;32m--> 117\u001b[0;31m         \u001b[0;32mreturn\u001b[0m \u001b[0mself\u001b[0m\u001b[0;34m.\u001b[0m\u001b[0mfunction\u001b[0m\u001b[0;34m(\u001b[0m\u001b[0mwaves\u001b[0m\u001b[0;34m,\u001b[0m \u001b[0mcalcs\u001b[0m\u001b[0;34m,\u001b[0m \u001b[0;34m**\u001b[0m\u001b[0mself\u001b[0m\u001b[0;34m.\u001b[0m\u001b[0mfun_args\u001b[0m\u001b[0;34m)\u001b[0m\u001b[0;34m\u001b[0m\u001b[0m\n\u001b[0m\u001b[1;32m    118\u001b[0m \u001b[0;34m\u001b[0m\u001b[0m\n\u001b[1;32m    119\u001b[0m \u001b[0;34m\u001b[0m\u001b[0m\n",
      "\u001b[0;32m~/dev/pygama/pygama/processing/calculators.py\u001b[0m in \u001b[0;36mtrap_max\u001b[0;34m(waves, calcs, test)\u001b[0m\n\u001b[1;32m     50\u001b[0m         \u001b[0mplt\u001b[0m\u001b[0;34m.\u001b[0m\u001b[0maxhline\u001b[0m\u001b[0;34m(\u001b[0m\u001b[0mmaxes\u001b[0m\u001b[0;34m[\u001b[0m\u001b[0miwf\u001b[0m\u001b[0;34m]\u001b[0m\u001b[0;34m)\u001b[0m\u001b[0;34m\u001b[0m\u001b[0m\n\u001b[1;32m     51\u001b[0m         \u001b[0mplt\u001b[0m\u001b[0;34m.\u001b[0m\u001b[0mshow\u001b[0m\u001b[0;34m(\u001b[0m\u001b[0;34m)\u001b[0m\u001b[0;34m\u001b[0m\u001b[0m\n\u001b[0;32m---> 52\u001b[0;31m         \u001b[0mexit\u001b[0m\u001b[0;34m(\u001b[0m\u001b[0;34m)\u001b[0m\u001b[0;34m\u001b[0m\u001b[0m\n\u001b[0m\u001b[1;32m     53\u001b[0m \u001b[0;34m\u001b[0m\u001b[0m\n\u001b[1;32m     54\u001b[0m     \u001b[0mcalcs\u001b[0m\u001b[0;34m[\u001b[0m\u001b[0;34m\"trap_max\"\u001b[0m\u001b[0;34m]\u001b[0m \u001b[0;34m=\u001b[0m \u001b[0mmaxes\u001b[0m\u001b[0;34m\u001b[0m\u001b[0m\n",
      "\u001b[0;31mNameError\u001b[0m: name 'exit' is not defined"
     ]
    }
   ],
   "source": [
    "proc = Tier1Processor(t1_options)\n",
    "proc.add(\"fit_baseline\", {\"i_end\":800})\n",
    "proc.add(\"bl_subtract\")\n",
    "proc.add(\"trap_filter\")\n",
    "proc.add(\"trap_max\", {\"test\":True}) # <---- this is different from before!\n",
    "\n",
    "ProcessTier1(t1_file,\n",
    "             proc,\n",
    "             out_prefix=\"t2\",\n",
    "             out_dir=data_dir,\n",
    "             verbose=True,\n",
    "             multiprocess=False,  # <---- this is different from before!\n",
    "             settings=t1_options[run])"
   ]
  },
  {
   "cell_type": "markdown",
   "metadata": {},
   "source": [
    "## Tier 2 Output\n",
    "\n",
    "let's make some plots!"
   ]
  },
  {
   "cell_type": "code",
   "execution_count": 7,
   "metadata": {},
   "outputs": [],
   "source": [
    "from pygama.utils import get_hist\n",
    "\n",
    "t2_file = glob.glob(\"{}/t2_run{}.h5\".format(data_dir, run))[0]\n",
    "t2_df = pd.read_hdf(t2_file)"
   ]
  },
  {
   "cell_type": "code",
   "execution_count": 8,
   "metadata": {},
   "outputs": [
    {
     "data": {
      "image/png": "[encoded data removed]",
      "text/plain": [
       "<Figure size 432x288 with 1 Axes>"
      ]
     },
     "metadata": {
      "needs_background": "light"
     },
     "output_type": "display_data"
    }
   ],
   "source": [
    "# set histogram limits\n",
    "x_lo, x_hi, xpb = 0, 8000, 10\n",
    "nb = int((x_hi-x_lo)/xpb)\n",
    "\n",
    "# we can do this but i don't like its look\n",
    "# t2_df.hist(\"trap_max\", bins=nb, range=(x_lo, x_hi), label=\"trap_max\")\n",
    "\n",
    "# this is better\n",
    "xH, yH = get_hist(t2_df[\"trap_max\"], x_lo, x_hi, xpb)\n",
    "plt.plot(xH, yH, c='b', lw=1, ls='steps', label=\"trap_max\")\n",
    "\n",
    "plt.xlabel(\"Energy [uncal]\", ha='right', x=1)\n",
    "plt.ylabel(\"Counts [arb]\", ha='right', y=1)\n",
    "plt.legend()\n",
    "plt.tight_layout()"
   ]
  },
  {
   "cell_type": "code",
   "execution_count": null,
   "metadata": {},
   "outputs": [],
   "source": []
  }
 ],
 "metadata": {
  "kernelspec": {
   "display_name": "Python 3",
   "language": "python",
   "name": "python3"
  },
  "language_info": {
   "codemirror_mode": {
    "name": "ipython",
    "version": 3
   },
   "file_extension": ".py",
   "mimetype": "text/x-python",
   "name": "python",
   "nbconvert_exporter": "python",
   "pygments_lexer": "ipython3",
   "version": "3.7.2"
  }
 },
 "nbformat": 4,
 "nbformat_minor": 2
}
