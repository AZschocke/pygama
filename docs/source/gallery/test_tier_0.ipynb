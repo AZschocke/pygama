{
  "cells": [
    {
      "cell_type": "code",
      "execution_count": null,
      "metadata": {
        "collapsed": false
      },
      "outputs": [],
      "source": [
        "%matplotlib inline"
      ]
    },
    {
      "cell_type": "markdown",
      "metadata": {},
      "source": [
        "another docstring, as required by schpinxx\n"
      ]
    },
    {
      "cell_type": "code",
      "execution_count": null,
      "metadata": {
        "collapsed": false
      },
      "outputs": [],
      "source": [
        "import os\nimport pandas as pd\nimport matplotlib.pyplot as plt\nfrom matplotlib.font_manager import FontProperties\nimport numpy as np\nimport datetime as dt\n\nfrom pygama.processing import process_tier_0\nimport pygama.decoders as dl\nfrom pygama.calibration import *\n\ndef main():\n    runNumber = 35366\n    n_max = np.inf\n\n    process(runNumber, n_max=500)\n    # plot_baselines(\"t1_run{}.h5\".format(runNumber))\n    # plot_waveforms(\"t1_run{}.h5\".format(runNumber), num_waveforms=50)\n\n    plt.show()\n\ndef plot_baselines(file_name, draw_non_detectors=False):\n    df_preamp =  pd.read_hdf(file_name, key=\"ORMJDPreAmpDecoderForAdc\")\n\n    f1 = plt.figure(figsize=(14,8))\n\n    for an_id in df_preamp.device_id.unique():\n        for a_ch in df_preamp.channel.unique():\n            ts = df_preamp.timestamp[df_preamp.device_id == an_id][df_preamp.channel == a_ch].tolist()      # timestamp\n            ts_f = [ dt.datetime.fromtimestamp(t) for t in ts]                                              # formatted ts object\n            v = df_preamp.adc[df_preamp.device_id == an_id][df_preamp.channel == a_ch].tolist()             # voltage reading\n\n            if df_preamp.enabled[df_preamp.device_id == an_id][df_preamp.channel == a_ch].any():            # check that the channel is enabled before plotting\n                detector_name = df_preamp.name[df_preamp.device_id == an_id][df_preamp.channel == a_ch].any()\n                if len(detector_name)>0 and (detector_name[0] == 'B' or  detector_name[0] == 'P'):\n                    plt.plot(ts_f,v, marker='+',ls=\":\", label=\"{} \".format(detector_name))\n                else:   # don't add a legent key unless we're looking at a named detector channel\n                    if(draw_non_detectors):\n                        plt.plot(ts_f,v, marker='+',ls=\":\")\n\n    ax=plt.gca()\n    box = ax.get_position()\n    ax.set_position([box.x0, box.y0, box.width * 0.8, box.height])\n    fontP = FontProperties()\n    fontP.set_size('x-small')\n    plt.legend(loc='center left', bbox_to_anchor=(1, 0.5), prop=fontP, ncol=2)\n    # plt.tight_layout()\n    plt.ylabel(\"Baseline value (V)\")\n    plt.xlabel(\"Time\")\n\ndef plot_waveforms(file_name, num_waveforms=5):\n    df_gretina = pd.read_hdf(file_name, key=\"ORGretina4MWaveformDecoder\")\n\n    g4 = dl.Gretina4MDecoder(file_name)\n\n    plt.figure()\n    plt.xlabel(\"Time [ns]\")\n    plt.ylabel(\"ADC [arb]\")\n\n    for i, (index, row) in enumerate(df_gretina.iterrows()):\n        wf = g4.parse_event_data(row)\n        wf_sub = wf.data - np.mean(wf.data[:500])\n        plt.plot(wf.time, wf_sub, ls=\"steps\", c=\"b\", alpha=0.1 )\n        if i >=num_waveforms : break\n\ndef process(runNumber, n_max=5000):\n    mjd_data_dir = os.path.join(os.getenv(\"DATADIR\", \".\"), \"mjd\")\n    raw_data_dir = os.path.join(mjd_data_dir,\"raw\")\n\n    runList = [runNumber]\n\n    from timeit import default_timer as timer\n    start = timer()\n    process_tier_0(raw_data_dir, runList, output_dir=\"\", n_max=n_max)\n    end = timer()\n    print(\"Processing time: {} s\".format(end - start))\n\nif __name__==\"__main__\":\n    main()"
      ]
    }
  ],
  "metadata": {
    "kernelspec": {
      "display_name": "Python 3",
      "language": "python",
      "name": "python3"
    },
    "language_info": {
      "codemirror_mode": {
        "name": "ipython",
        "version": 3
      },
      "file_extension": ".py",
      "mimetype": "text/x-python",
      "name": "python",
      "nbconvert_exporter": "python",
      "pygments_lexer": "ipython3",
      "version": "3.6.4"
    }
  },
  "nbformat": 4,
  "nbformat_minor": 0
}