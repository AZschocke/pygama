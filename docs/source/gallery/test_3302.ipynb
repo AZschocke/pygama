{
  "cells": [
    {
      "cell_type": "code",
      "execution_count": null,
      "metadata": {
        "collapsed": false
      },
      "outputs": [],
      "source": [
        "%matplotlib inline"
      ]
    },
    {
      "cell_type": "markdown",
      "metadata": {},
      "source": [
        "phillip glass sounds like star trek iii\n"
      ]
    },
    {
      "cell_type": "code",
      "execution_count": null,
      "metadata": {
        "collapsed": false
      },
      "outputs": [],
      "source": [
        "import os\nimport pandas as pd\nimport matplotlib.pyplot as plt\nimport numpy as np\nimport datetime as dt\n\nimport pygama.processing as pp\nimport pygama.decoders as dl\nimport pygama.calculators as pc\nimport pygama.transforms as pt\n\n#path to the DaqTest_Run1 file\nlanl_data_dir = os.path.join(os.getenv(\"DATADIR\", \".\"), \"lanl\")\nraw_data_dir = os.path.join(lanl_data_dir,\"raw\")\n\ndef main():\n    runNumber = 1\n    n_max = np.inf #max number of events to decode\n\n    process_t0(runNumber, n_max=n_max)\n    process_t1(runNumber)\n    plot_waveforms(runNumber, num_waveforms=10)\n\n    plot_spectrum(runNumber)\n    plt.show()\n\ndef plot_waveforms(runNumber, num_waveforms=5):\n    file_name = \"t1_run{}.h5\".format(runNumber)\n\n    dcdr = dl.SIS3302Decoder(file_name)\n    df_events = pd.read_hdf(file_name, key=dcdr.decoder_name)\n\n    plt.figure()\n    plt.xlabel(\"Time [ns]\")\n    plt.ylabel(\"ADC [arb]\")\n\n    for i, (index, row) in enumerate(df_events.iterrows()):\n        wf = dcdr.parse_event_data(row)\n        plt.plot(wf.data)\n        if i >=num_waveforms : break\n\ndef process_t0(runNumber, n_max=5000):\n    lanl_data_dir = os.path.join(os.getenv(\"DATADIR\", \".\"), \"lanl\")\n    raw_data_dir = os.path.join(lanl_data_dir,\"raw\")\n\n    runList = [runNumber]\n    pp.process_tier_0(raw_data_dir, runList, output_dir=\"\", chanList=None, n_max=n_max)\n\ndef process_t1(runNumber):\n    runList = [runNumber]\n    pp.process_tier_1(\"\", runList, make_processor_list())\n\ndef plot_spectrum(runNumber):\n    file_name = \"t2_run{}.h5\".format(runNumber)\n\n    df = pd.read_hdf(file_name)\n    plt.hist(df.energy, bins=2000)\n\ndef make_processor_list():\n\n    #Make a list of processors to do to the data for the \"tier one\" (ie, gatified)\n    procs = pp.TierOneProcessorList()\n\n    #pass energy thru to t1\n    procs.AddFromTier0(\"channel\")\n    procs.AddFromTier0(\"energy\", \"onboard_energy\")\n\n    #baseline remove\n    procs.AddCalculator(pc.fit_baseline, {\"end_index\":700}, output_name=[\"bl_slope\", \"bl_int\"])\n    procs.AddTransform(pt.remove_baseline, {\"bl_0\":\"bl_int\", \"bl_1\":\"bl_slope\"}, output_waveform=\"blrm_wf\")\n\n    #energy estimator: pz correct, calc trap\n    procs.AddTransform(pt.pz_correct, {\"rc\":72}, input_waveform=\"blrm_wf\", output_waveform=\"pz_wf\")\n    procs.AddTransform(pt.trap_filter, {\"rampTime\":200, \"flatTime\":400}, input_waveform=\"pz_wf\", output_waveform=\"trap_wf\")\n\n    procs.AddCalculator(pc.trap_max, {}, input_waveform=\"trap_wf\", output_name=\"trap_max\")\n    procs.AddCalculator(pc.trap_max, {\"method\":\"fixed_time\",\"pickoff_sample\":400}, input_waveform=\"trap_wf\", output_name=\"trap_ft\")\n\n    return procs\n\nif __name__==\"__main__\":\n    main()"
      ]
    }
  ],
  "metadata": {
    "kernelspec": {
      "display_name": "Python 3",
      "language": "python",
      "name": "python3"
    },
    "language_info": {
      "codemirror_mode": {
        "name": "ipython",
        "version": 3
      },
      "file_extension": ".py",
      "mimetype": "text/x-python",
      "name": "python",
      "nbconvert_exporter": "python",
      "pygments_lexer": "ipython3",
      "version": "3.6.4"
    }
  },
  "nbformat": 4,
  "nbformat_minor": 0
}