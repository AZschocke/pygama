{
  "cells": [
    {
      "cell_type": "code",
      "execution_count": null,
      "metadata": {
        "collapsed": false
      },
      "outputs": [],
      "source": [
        "%matplotlib inline"
      ]
    },
    {
      "cell_type": "markdown",
      "metadata": {},
      "source": [
        "test_tier_1 docstring, as required by sphinx docs\n"
      ]
    },
    {
      "cell_type": "code",
      "execution_count": null,
      "metadata": {
        "collapsed": false
      },
      "outputs": [],
      "source": [
        "import os\nimport pandas as pd\nimport matplotlib.pyplot as plt\nimport numpy as np\nimport datetime as dt\n\nfrom pygama.processing import process_tier_0, process_tier_1, TierOneProcessorList\nimport pygama.decoders as dl\nfrom pygama.transforms import *\nfrom pygama.calculators import *\n\ndef main():\n    runNumber = 35366\n    # runNumber = 11510\n    n_max = np.inf\n\n    process(runNumber, n_max=n_max)\n    plot_spectrum(runNumber)\n\ndef plot_spectrum(runNumber):\n    file_name = \"t2_run{}.h5\".format(runNumber)\n    df =  pd.read_hdf(file_name, key=\"data\")\n\n    #show everything in the data frame\n    print(df.head())\n\n    #make a hist of energy\n    df.hist(\"trap_max\", bins=100)\n    plt.show()\n\ndef process(runNumber, n_max=5000):\n    file_name = \"t1_run{}.h5\"\n\n\n    proc_list = get_processing_list()\n\n    runList = [runNumber]\n    process_tier_1(\"\", runList, proc_list)\n\ndef get_processing_list():\n\n    procs = TierOneProcessorList()\n\n    #pass channel thru to t1\n    procs.AddFromTier0(\"channel\")\n\n    #baseline remove\n    procs.AddCalculator(fit_baseline, {\"end_index\":700}, output_name=[\"bl_slope\", \"bl_int\"])\n    procs.AddTransform(remove_baseline, {\"bl_0\":\"bl_int\", \"bl_1\":\"bl_slope\"}, output_waveform=\"blrm_wf\")\n\n    #energy estimator: pz correct, calc trap\n    procs.AddTransform(pz_correct, {\"rc\":72}, input_waveform=\"blrm_wf\", output_waveform=\"pz_wf\")\n    procs.AddTransform(trap_filter, {\"rampTime\":400, \"flatTime\":200}, input_waveform=\"pz_wf\", output_waveform=\"trap_wf\")\n\n    procs.AddCalculator(trap_max, {}, input_waveform=\"trap_wf\", output_name=\"trap_max\")\n    procs.AddCalculator(trap_max, {\"method\":\"fixed_time\",\"pickoff_sample\":400}, input_waveform=\"trap_wf\", output_name=\"trap_ft\")\n\n    return procs\n\nif __name__==\"__main__\":\n    main()"
      ]
    }
  ],
  "metadata": {
    "kernelspec": {
      "display_name": "Python 3",
      "language": "python",
      "name": "python3"
    },
    "language_info": {
      "codemirror_mode": {
        "name": "ipython",
        "version": 3
      },
      "file_extension": ".py",
      "mimetype": "text/x-python",
      "name": "python",
      "nbconvert_exporter": "python",
      "pygments_lexer": "ipython3",
      "version": "3.6.4"
    }
  },
  "nbformat": 4,
  "nbformat_minor": 0
}