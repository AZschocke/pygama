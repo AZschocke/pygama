{
 "cells": [
  {
   "cell_type": "code",
   "execution_count": 1,
   "metadata": {},
   "outputs": [],
   "source": [
    "import sys, os\n",
    "import numpy as np\n",
    "\n",
    "from pygama.dsp.ProcessingChain import ProcessingChain\n",
    "from pygama.dsp.processors import *\n",
    "from pygama.dsp.units import *\n",
    "\n",
    "from pygama.io import io_base as io\n",
    "\n",
    "# CONSTANT VARIABLES TO SET UP CONFIG\n",
    "filename = os.path.expandvars('$DATADIR/CAGE/pygama_raw/raw_run42.lh5')\n",
    "groupname = \"ORSIS3302DecoderForEnergy\"\n",
    "verbosity = 2\n",
    "wfblock = 8"
   ]
  },
  {
   "cell_type": "code",
   "execution_count": 17,
   "metadata": {},
   "outputs": [
    {
     "name": "stdout",
     "output_type": "stream",
     "text": [
      "Setting i/o buffer length to 1000\n",
      "Added variable wf with shape (8, 3000) and type float32\n",
      "Binding input buffer of shape (1000, 3000) and type uint16 to variable wf with shape (8, 3000) and type float32\n",
      "Added variable bl with shape (8,) and type float32\n",
      "Added variable bl_sig with shape (8,) and type float32\n",
      "Added processor: mean_stdev(wf, bl, bl_sig)\n",
      "Added variable wf_blsub with shape (8, 3000) and type float32\n",
      "Added processor: subtract(wf, bl, wf_blsub)\n",
      "Added variable wf_pz with shape (8, 3000) and type float32\n",
      "Added processor: pole_zero(wf_blsub, 7000.0, wf_pz)\n",
      "Added variable wf_trap with shape (8, 3000) and type float32\n",
      "Added processor: trap_filter(wf_pz, 500, 1000, wf_trap)\n",
      "Added variable trap_norm with shape (8, 3000) and type float32\n",
      "Added processor: true_divide(wf_trap, 1000.0, trap_norm)\n",
      "Added variable trapE with shape (8,) and type float32\n",
      "Added processor: amax(trap_norm, 1, trapE)\n",
      "Added variable curr with shape (8, 3000) and type float32\n",
      "Added processor: avg_current(wf_pz, 10, curr)\n",
      "Added variable curr_amp with shape (8,) and type float32\n",
      "Added processor: amax(curr, 1, curr_amp)\n",
      "Added variable dcr_trap with shape (8, 3000) and type float32\n",
      "Added processor: trap_filter(wf_pz, 50, 1000, dcr_trap)\n",
      "Added variable dcr_trap_norm with shape (8, 3000) and type float32\n",
      "Added processor: true_divide(dcr_trap, 50.0, dcr_trap_norm)\n",
      "Added variable dcr_trap_max_sample with shape (8,) and type int32\n",
      "Added processor: argmax(wf_blsub, -1, dcr_trap_max_sample)\n",
      "Added variable dcr with shape (8,) and type float32\n",
      "Added processor: fixed_time_pickoff(dcr_trap, dcr_trap_max_sample, 1200, dcr)\n"
     ]
    }
   ],
   "source": [
    "# Set up file I/O\n",
    "lh5 = io.LH5Store()\n",
    "data = lh5.read_object(groupname, filename, start_row=0, n_rows=1000)\n",
    "\n",
    "wf_in = data['waveform']['values'].nda\n",
    "dt = data['waveform']['dt'].nda[0] * unit_parser.parse_unit(data['waveform']['dt'].attrs['units'])\n",
    "\n",
    "# Set up processing chain\n",
    "proc = ProcessingChain(block_width=wfblock, clock_unit=dt, verbosity=verbosity)\n",
    "proc.add_input_buffer(\"wf\", wf_in, dtype='float32')\n",
    "proc.add_processor(mean_stdev, \"wf[0:1000]\", \"bl\", \"bl_sig\")\n",
    "proc.add_processor(np.subtract, \"wf\", \"bl\", \"wf_blsub\")\n",
    "proc.add_processor(pole_zero, \"wf_blsub\", 70*us, \"wf_pz\")\n",
    "proc.add_processor(trap_filter, \"wf_pz\", 5*us, 10*us, \"wf_trap\")\n",
    "proc.add_processor(np.divide, \"wf_trap\", 10*us, \"trap_norm\")\n",
    "proc.add_processor(np.amax, \"trap_norm\", 1, \"trapE\", signature='(n),()->()', types=['fi->f'])\n",
    "proc.add_processor(avg_current, \"wf_pz\", 10, \"curr\")\n",
    "proc.add_processor(np.amax, \"curr\", 1, \"curr_amp\", signature='(n),()->()', types=['fi->f'])\n",
    "\n",
    "proc.add_processor(trap_filter, \"wf_pz\", 50, 1000, \"dcr_trap\")\n",
    "proc.add_processor(np.divide, \"dcr_trap\", 50, \"dcr_trap_norm\")\n",
    "proc.add_processor(np.argmax, \"wf_blsub\", -1, \"dcr_trap_max_sample\", signature='(n),()->()', types=['fi->i'])\n",
    "proc.add_processor(fixed_time_pickoff, \"dcr_trap\", \"dcr_trap_max_sample\", 1200, \"dcr\")\n"
   ]
  },
  {
   "cell_type": "code",
   "execution_count": 18,
   "metadata": {},
   "outputs": [
    {
     "name": "stdout",
     "output_type": "stream",
     "text": [
      "Binding output buffer of shape (1000, 3000) and type float32 to variable wf_blsub with shape (8, 3000) and type float32\n",
      "Binding output buffer of shape (1000, 3000) and type float32 to variable trap_norm with shape (8, 3000) and type float32\n",
      "Binding output buffer of shape (1000,) and type float32 to variable trapE with shape (8,) and type float32\n",
      "Binding output buffer of shape (1000, 3000) and type float32 to variable curr with shape (8, 3000) and type float32\n",
      "Binding output buffer of shape (1000,) and type float32 to variable curr_amp with shape (8,) and type float32\n",
      "Binding output buffer of shape (1000,) and type float32 to variable dcr with shape (8,) and type float32\n",
      "Binding output buffer of shape (1000,) and type int32 to variable dcr_trap_max_sample with shape (8,) and type int32\n",
      "Binding output buffer of shape (1000, 3000) and type float32 to variable dcr_trap_norm with shape (8, 3000) and type float32\n",
      "1000\n"
     ]
    }
   ],
   "source": [
    "# Get the outputs of interest\n",
    "wf = proc.get_output_buffer(\"wf_blsub\")\n",
    "trap = proc.get_output_buffer(\"trap_norm\")\n",
    "trapE = proc.get_output_buffer(\"trapE\")\n",
    "curr = proc.get_output_buffer(\"curr\")\n",
    "curr_amp = proc.get_output_buffer(\"curr_amp\")\n",
    "dcr = proc.get_output_buffer(\"dcr\")\n",
    "dcr_trap_max_sample = proc.get_output_buffer(\"dcr_trap_max_sample\")\n",
    "wfindex = np.arange(trap.shape[-1])\n",
    "dcr_trap_norm = proc.get_output_buffer(\"dcr_trap_norm\")\n",
    "\n",
    "# Execute analysis\n",
    "proc.execute()\n",
    "print(len(trapE))\n"
   ]
  },
  {
   "cell_type": "code",
   "execution_count": 19,
   "metadata": {},
   "outputs": [],
   "source": [
    "# Set index counter. Rerun this box to start over the file...\n",
    "wfnum = 0"
   ]
  },
  {
   "cell_type": "code",
   "execution_count": 21,
   "metadata": {},
   "outputs": [
    {
     "data": {
      "image/png": "[encoded data removed]",
      "text/plain": [
       "<Figure size 432x288 with 1 Axes>"
      ]
     },
     "metadata": {
      "needs_background": "light"
     },
     "output_type": "display_data"
    }
   ],
   "source": [
    "import matplotlib.pyplot as plt\n",
    "\n",
    "# Draw things!\n",
    "plt.scatter(wfindex, wf[wfnum])\n",
    "#plt.scatter(wfindex, trap[wfnum])\n",
    "#plt.scatter(wfindex, curr[wfnum])\n",
    "plt.scatter(wfindex, dcr_trap_norm[wfnum])\n",
    "#plt.hlines(trapE[wfnum], wfindex[0], wfindex[-1])\n",
    "#plt.hlines(curr_amp[wfnum], wfindex[0], wfindex[-1])\n",
    "plt.vlines(dcr_trap_max_sample[wfnum], 0, np.amax(wf[wfnum]))\n",
    "plt.vlines(dcr_trap_max_sample[wfnum] + 1200, 0, np.amax(wf[wfnum]))\n",
    "\n",
    "plt.show();"
   ]
  },
  {
   "cell_type": "code",
   "execution_count": null,
   "metadata": {},
   "outputs": [],
   "source": []
  },
  {
   "cell_type": "code",
   "execution_count": null,
   "metadata": {},
   "outputs": [],
   "source": []
  }
 ],
 "metadata": {
  "@webio": {
   "lastCommId": null,
   "lastKernelId": null
  },
  "kernelspec": {
   "display_name": "Python 3",
   "language": "python",
   "name": "python3"
  },
  "language_info": {
   "codemirror_mode": {
    "name": "ipython",
    "version": 3
   },
   "file_extension": ".py",
   "mimetype": "text/x-python",
   "name": "python",
   "nbconvert_exporter": "python",
   "pygments_lexer": "ipython3",
   "version": "3.7.2"
  }
 },
 "nbformat": 4,
 "nbformat_minor": 2
}
