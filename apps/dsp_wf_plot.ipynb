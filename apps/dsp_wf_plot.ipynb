{
 "cells": [
  {
   "cell_type": "code",
   "execution_count": null,
   "metadata": {},
   "outputs": [],
   "source": [
    "#NOTE: When committing changes to this notebook, please restart the kernel and clear outputs.\n",
    "#      this will reduce the odds of a merge conflict\n",
    "\n",
    "import sys, os\n",
    "import numpy as np\n",
    "# import h5py\n",
    "\n",
    "from pygama.dsp.ProcessingChain import ProcessingChain\n",
    "from pygama.dsp.processors import *\n",
    "from pygama.dsp.units import *\n",
    "\n",
    "from pygama.io import lh5\n",
    "\n",
    "# CONSTANT VARIABLES TO SET UP CONFIG\n",
    "# with h5py.File(\"/Volumes/LaCie/Data/CAGE/pygama_raw/raw_run11.lh5\", 'r') as f:\n",
    "#     print(f.keys())\n",
    "filename = os.path.expandvars(\"t1_run1687.lh5\")\n",
    "groupname = \"ORSIS3302DecoderForEnergy\"\n",
    "nentries = 1000 # Number of entries in the file to process\n",
    "start_entry = 0 # First entry to process\n",
    "verbosity = 2\n",
    "wfblock = 8"
   ]
  },
  {
   "cell_type": "code",
   "execution_count": null,
   "metadata": {
    "scrolled": true
   },
   "outputs": [],
   "source": [
    "# Set up file I/O\n",
    "lh5_in = lh5.Store()\n",
    "data = lh5_in.read_object(groupname, filename, n_rows=nentries, start_row=start_entry)\n",
    "\n",
    "wf_in = data['waveform']['values'].nda\n",
    "dt = data['waveform']['dt'].nda[0] * unit_parser.parse_unit(data['waveform']['dt'].attrs['units'])\n",
    "\n",
    "# Set up processing chain\n",
    "proc = ProcessingChain(block_width=wfblock, clock_unit=dt, verbosity=verbosity)\n",
    "proc.add_input_buffer(\"wf\", wf_in, dtype='float32')\n",
    "\n",
    "# Basic Filters\n",
    "proc.add_processor(mean_stdev, \"wf[0:1000]\", \"bl\", \"bl_sig\")\n",
    "proc.add_processor(np.subtract, \"wf\", \"bl\", \"wf_blsub\")\n",
    "proc.add_processor(pole_zero, \"wf_blsub\", 70*us, \"wf_pz\")\n",
    "proc.add_processor(trap_norm, \"wf_pz\", 10*us, 5*us, \"wf_trap\")\n",
    "proc.add_processor(asymTrapFilter, \"wf_pz\", 0.05*us, 2*us, 4*us, \"wf_atrap\")\n",
    "\n",
    "# Timepoint calculation\n",
    "proc.add_processor(np.argmax, \"wf_blsub\", 1, \"t_max\", signature='(n),()->()', types=['fi->i'])\n",
    "proc.add_processor(time_point_frac, \"wf_blsub\", 0.95, \"t_max\", \"tp_95\")\n",
    "proc.add_processor(time_point_frac, \"wf_blsub\", 0.8, \"t_max\", \"tp_80\")\n",
    "proc.add_processor(time_point_frac, \"wf_blsub\", 0.5, \"t_max\", \"tp_50\")\n",
    "proc.add_processor(time_point_frac, \"wf_blsub\", 0.2, \"t_max\", \"tp_20\")\n",
    "proc.add_processor(time_point_frac, \"wf_blsub\", 0.05, \"t_max\", \"tp_05\")\n",
    "proc.add_processor(time_point_thresh, \"wf_atrap[0:2000]\", 0, \"tp_0\")\n",
    "\n",
    "# Energy calculation\n",
    "proc.add_processor(np.amax, \"wf_trap\", 1, \"trapEmax\", signature='(n),()->()', types=['fi->f'])\n",
    "proc.add_processor(fixed_time_pickoff, \"wf_trap\", \"tp_0+(5*us+9*us)\", \"trapEftp\")\n",
    "proc.add_processor(trap_pickoff, \"wf_pz\", 1.5*us, 0, \"tp_0\", \"ct_corr\")\n",
    "\n",
    "# Current calculation\n",
    "proc.add_processor(avg_current, \"wf_pz\", 10, \"curr(len(wf_pz)-10, f)\")\n",
    "proc.add_processor(np.amax, \"curr\", 1, \"curr_amp\", signature='(n),()->()', types=['fi->f'])\n",
    "proc.add_processor(np.divide, \"curr_amp\", \"trapEftp\", \"aoe\")\n",
    "\n",
    "# DCR calculation: use slope using 1000 samples apart and averaging 200\n",
    "# samples, with the start 1.5 us offset from t0\n",
    "proc.add_processor(trap_pickoff, \"wf_pz\", 200, 1000, \"tp_0+1.5*us\", \"dcr_unnorm\")\n",
    "proc.add_processor(np.divide, \"dcr_unnorm\", \"trapEftp\", \"dcr\")\n",
    "\n",
    "# Tail slope. Basically the same as DCR, except with no PZ correction\n",
    "proc.add_processor(linear_fit, \"wf_blsub[3000:]\", \"wf_b\", \"wf_m\")\n",
    "proc.add_processor(np.divide, \"-wf_b\", \"wf_m\", \"tail_rc\")\n"
   ]
  },
  {
   "cell_type": "code",
   "execution_count": null,
   "metadata": {},
   "outputs": [],
   "source": [
    "# Get the outputs of interest\n",
    "wf = proc.get_output_buffer(\"wf_blsub\")\n",
    "trap = proc.get_output_buffer(\"wf_trap\")\n",
    "atrap = proc.get_output_buffer(\"wf_atrap\")\n",
    "\n",
    "tmax = proc.get_output_buffer(\"t_max\")\n",
    "tp95 = proc.get_output_buffer(\"tp_95\")\n",
    "tp80 = proc.get_output_buffer(\"tp_80\")\n",
    "tp50 = proc.get_output_buffer(\"tp_50\")\n",
    "tp20 = proc.get_output_buffer(\"tp_20\")\n",
    "tp05 = proc.get_output_buffer(\"tp_05\")\n",
    "tp0 = proc.get_output_buffer(\"tp_0\")\n",
    "\n",
    "trapEmax = proc.get_output_buffer(\"trapEmax\")\n",
    "trapEftp = proc.get_output_buffer(\"trapEftp\")\n",
    "ctcorr = proc.get_output_buffer(\"ct_corr\")\n",
    "\n",
    "curr = proc.get_output_buffer(\"curr\")\n",
    "AoverE = proc.get_output_buffer(\"aoe\")\n",
    "\n",
    "wfindex = np.arange(trap.shape[-1])\n",
    "\n",
    "# Execute analysis\n",
    "proc.execute()\n"
   ]
  },
  {
   "cell_type": "code",
   "execution_count": null,
   "metadata": {},
   "outputs": [],
   "source": [
    "# Set index counter. Rerun this box to start over the file...\n",
    "wfnum = 0"
   ]
  },
  {
   "cell_type": "code",
   "execution_count": null,
   "metadata": {},
   "outputs": [],
   "source": [
    "import matplotlib.pyplot as plt\n",
    "plt.rcParams['figure.figsize'] = [10, 5]\n",
    "\n",
    "# Draw Waveforms and timepoints\n",
    "plt.plot(wfindex, wf[wfnum])\n",
    "plt.plot(wfindex, atrap[wfnum])\n",
    "plt.vlines(tp95[wfnum], 0, trapEmax[wfnum])\n",
    "plt.vlines(tp80[wfnum], 0, trapEmax[wfnum])\n",
    "plt.vlines(tp50[wfnum], 0, trapEmax[wfnum])\n",
    "plt.vlines(tp20[wfnum], 0, trapEmax[wfnum])\n",
    "plt.vlines(tp05[wfnum], 0, trapEmax[wfnum])\n",
    "plt.vlines(tp0[wfnum], 0, trapEmax[wfnum])\n",
    "\n",
    "# plt.scatter(wfindex, curr[wfnum])\n",
    "plt.hlines(trapEmax[wfnum], wfindex[0], wfindex[-1], color='r')\n",
    "plt.hlines(trapEftp[wfnum], wfindex[0], wfindex[-1], linestyle='dotted', color='b')\n",
    "# plt.hlines(curr_amp[wfnum], wfindex[0], wfindex[-1])\n",
    "plt.xlim(900, 1400)\n",
    "plt.xlabel('Time (10 ns)')\n",
    "plt.ylabel('ADC')\n",
    "plt.show()\n",
    "wfnum+=1"
   ]
  },
  {
   "cell_type": "code",
   "execution_count": null,
   "metadata": {},
   "outputs": [],
   "source": [
    "# Energy Plots\n",
    "plt.hist(trapEmax, 100, (0, 10000))\n",
    "plt.xlabel('Energy (ADC)')\n",
    "plt.show()\n",
    "\n",
    "plt.hist(trapEftp, 100, (0, 10000))\n",
    "plt.xlabel('Energy (ADC)')\n",
    "plt.show()\n",
    "\n",
    "plt.hist(trapEmax, 50, (8000, 9000))\n",
    "plt.hist(trapEftp, 50, (8000, 9000))\n",
    "plt.xlabel('Energy (ADC)')\n",
    "plt.show()\n",
    "\n",
    "plt.scatter(trapEftp, ctcorr)\n",
    "plt.xlim(8300, 8450)\n",
    "plt.xlabel('Energy (ADC)')\n",
    "plt.ylabel('Charge Trapping Correction (arb)')\n",
    "plt.show()"
   ]
  },
  {
   "cell_type": "code",
   "execution_count": null,
   "metadata": {},
   "outputs": [],
   "source": [
    "# A/E plot\n",
    "plt.scatter(trapEftp, AoverE, marker=\".\")\n",
    "plt.ylim(0, 0.1)\n",
    "plt.xlabel('Energy (ADC)')\n",
    "plt.ylabel(\"A/E (arb)\")\n",
    "plt.show()"
   ]
  },
  {
   "cell_type": "code",
   "execution_count": null,
   "metadata": {},
   "outputs": [],
   "source": []
  }
 ],
 "metadata": {
  "@webio": {
   "lastCommId": null,
   "lastKernelId": null
  },
  "kernelspec": {
   "display_name": "Python 3",
   "language": "python",
   "name": "python3"
  },
  "language_info": {
   "codemirror_mode": {
    "name": "ipython",
    "version": 3
   },
   "file_extension": ".py",
   "mimetype": "text/x-python",
   "name": "python",
   "nbconvert_exporter": "python",
   "pygments_lexer": "ipython3",
   "version": "3.6.9"
  }
 },
 "nbformat": 4,
 "nbformat_minor": 2
}
