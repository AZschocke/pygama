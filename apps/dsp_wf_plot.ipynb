{
 "cells": [
  {
   "cell_type": "code",
   "execution_count": null,
   "metadata": {},
   "outputs": [],
   "source": [
    "import sys, os\n",
    "import numpy as np\n",
    "\n",
    "from pygama.dsp.ProcessingChain import ProcessingChain\n",
    "from pygama.dsp.processors import *\n",
    "from pygama.dsp.units import *\n",
    "\n",
    "from pygama.io import io_base as io\n",
    "\n",
    "# CONSTANT VARIABLES TO SET UP CONFIG\n",
    "filename = os.path.expandvars(\"ADD A FILE HERE!!!\")\n",
    "groupname = \"daqdata\"\n",
    "nentries = 1000 # Number of entries in the file to process\n",
    "start_entry = 0 # First entry to process\n",
    "verbosity = 2\n",
    "wfblock = 8"
   ]
  },
  {
   "cell_type": "code",
   "execution_count": null,
   "metadata": {},
   "outputs": [],
   "source": [
    "# Set up file I/O\n",
    "lh5 = io.LH5Store()\n",
    "data = lh5.read_object(groupname, filename, n_rows=nentries, start_row=start_entry)\n",
    "\n",
    "wf_in = data['waveform']['values'].nda\n",
    "dt = data['waveform']['dt'].nda[0] * unit_parser.parse_unit(data['waveform']['dt'].attrs['units'])\n",
    "\n",
    "# Set up processing chain\n",
    "proc = ProcessingChain(block_width=wfblock, clock_unit=dt, verbosity=verbosity)\n",
    "proc.add_input_buffer(\"wf\", wf_in, dtype='float32')\n",
    "\n",
    "# Basic Filters\n",
    "proc.add_processor(mean_stdev, \"wf[0:1000]\", \"bl\", \"bl_sig\")\n",
    "proc.add_processor(np.subtract, \"wf\", \"bl\", \"wf_blsub\")\n",
    "proc.add_processor(pole_zero, \"wf_blsub\", 70*us, \"wf_pz\")\n",
    "proc.add_processor(trap_filter, \"wf_pz\", 10*us, 5*us, \"wf_trap\")\n",
    "\n",
    "# Energy calculation\n",
    "proc.add_processor(np.divide, \"wf_trap\", 10*us, \"trap_norm\")\n",
    "proc.add_processor(np.amax, \"trap_norm\", 1, \"trapE\", signature='(n),()->()', types=['fi->f'])\n",
    "\n",
    "# Current calculation\n",
    "proc.add_processor(avg_current, \"wf_pz\", 10, \"curr\")\n",
    "proc.add_processor(np.amax, \"curr\", 1, \"curr_amp\", signature='(n),()->()', types=['fi->f'])\n"
   ]
  },
  {
   "cell_type": "code",
   "execution_count": null,
   "metadata": {},
   "outputs": [],
   "source": [
    "# Get the outputs of interest\n",
    "wf = proc.get_output_buffer(\"wf_blsub\")\n",
    "trap = proc.get_output_buffer(\"trap_norm\")\n",
    "trapE = proc.get_output_buffer(\"trapE\")\n",
    "curr = proc.get_output_buffer(\"curr\")\n",
    "curr_amp = proc.get_output_buffer(\"curr_amp\")\n",
    "\n",
    "wfindex = np.arange(trap.shape[-1])\n",
    "\n",
    "# Execute analysis\n",
    "proc.execute()\n"
   ]
  },
  {
   "cell_type": "code",
   "execution_count": null,
   "metadata": {},
   "outputs": [],
   "source": [
    "# Set index counter. Rerun this box to start over the file...\n",
    "wfnum = 0"
   ]
  },
  {
   "cell_type": "code",
   "execution_count": null,
   "metadata": {},
   "outputs": [],
   "source": [
    "import matplotlib.pyplot as plt\n",
    "\n",
    "# Draw things!\n",
    "plt.scatter(wfindex, wf[wfnum])\n",
    "plt.scatter(wfindex, trap[wfnum])\n",
    "plt.scatter(wfindex, curr[wfnum])\n",
    "plt.hlines(trapE[wfnum], wfindex[0], wfindex[-1])\n",
    "plt.hlines(curr_amp[wfnum], wfindex[0], wfindex[-1])\n",
    "\n",
    "wfnum+=1"
   ]
  },
  {
   "cell_type": "code",
   "execution_count": null,
   "metadata": {},
   "outputs": [],
   "source": []
  }
 ],
 "metadata": {
  "kernelspec": {
   "display_name": "Python 3",
   "language": "python",
   "name": "python3"
  },
  "language_info": {
   "codemirror_mode": {
    "name": "ipython",
    "version": 3
   },
   "file_extension": ".py",
   "mimetype": "text/x-python",
   "name": "python",
   "nbconvert_exporter": "python",
   "pygments_lexer": "ipython3",
   "version": "3.6.9"
  }
 },
 "nbformat": 4,
 "nbformat_minor": 2
}
